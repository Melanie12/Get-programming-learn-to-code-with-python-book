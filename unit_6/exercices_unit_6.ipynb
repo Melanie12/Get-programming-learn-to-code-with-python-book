{
 "cells": [
  {
   "cell_type": "markdown",
   "id": "9aa153fc",
   "metadata": {},
   "source": [
    "## Lesson 24"
   ]
  },
  {
   "cell_type": "markdown",
   "id": "735a77a7",
   "metadata": {},
   "source": [
    "**Quick check 24.2**\n",
    "Would you use a mutable or an immutable type of object to store the following information?\n",
    "1. cities in state -> immutable #\n",
    "    either immutable object (tuple, because the names of cities won't change) or mutable list (list, because you may add/remove cities as needed)\n",
    "2. your age -> mutable \n",
    "    immutable object, an int (a mutable object would be overkill because age is only one item, so the overhead of changing isn't worth making it mutable)\n",
    "3. group of items in a grocery store and their cost -> mutable\n",
    "    mutable object, a dictionnary to store an item and its cost\n",
    "4. color of car -> immutable\n",
    "    immutable object, a string"
   ]
  },
  {
   "cell_type": "markdown",
   "id": "e384c011",
   "metadata": {},
   "source": [
    "## Lesson 25"
   ]
  },
  {
   "cell_type": "markdown",
   "id": "e9a13c1d",
   "metadata": {},
   "source": [
    "**Quick check 25.1**\n",
    " For each of the following, would you use a tuple or a list to store the information?\n",
    " 1. Pairs of letters and their position in the alphabet -> tuple\n",
    " 2. Shoe sizes of adults in the United States -> list\n",
    "    tuple\n",
    " 3. Pairs of cities and their average snowfall from 1950 to 2015 ->tuple\n",
    " 4. Names of everyone in the United States -> list\n",
    " 5. Names of apps on your phone/computer -> list"
   ]
  },
  {
   "cell_type": "markdown",
   "id": "0607ca5f",
   "metadata": {},
   "source": [
    "**Quick check 25.2**\n",
    "what's printed with each command?"
   ]
  },
  {
   "cell_type": "code",
   "execution_count": 2,
   "id": "2725a2b0",
   "metadata": {},
   "outputs": [
    {
     "name": "stdout",
     "output_type": "stream",
     "text": [
      "tape\n",
      "mouse\n"
     ]
    },
    {
     "ename": "IndexError",
     "evalue": "list index out of range",
     "output_type": "error",
     "traceback": [
      "\u001B[31m---------------------------------------------------------------------------\u001B[39m",
      "\u001B[31mIndexError\u001B[39m                                Traceback (most recent call last)",
      "\u001B[36mCell\u001B[39m\u001B[36m \u001B[39m\u001B[32mIn[2]\u001B[39m\u001B[32m, line 4\u001B[39m\n\u001B[32m      2\u001B[39m \u001B[38;5;28mprint\u001B[39m(desk_items[\u001B[32m1\u001B[39m]) \u001B[38;5;66;03m#tape\u001B[39;00m\n\u001B[32m      3\u001B[39m \u001B[38;5;28mprint\u001B[39m(desk_items[\u001B[32m4\u001B[39m]) \u001B[38;5;66;03m#mouse\u001B[39;00m\n\u001B[32m----> \u001B[39m\u001B[32m4\u001B[39m \u001B[38;5;28mprint\u001B[39m(\u001B[43mdesk_items\u001B[49m\u001B[43m[\u001B[49m\u001B[32;43m5\u001B[39;49m\u001B[43m]\u001B[49m) \u001B[38;5;66;03m#index out of range\u001B[39;00m\n\u001B[32m      5\u001B[39m \u001B[38;5;28mprint\u001B[39m(desk_items[\u001B[32m0\u001B[39m]) \u001B[38;5;66;03m#stapler\u001B[39;00m\n",
      "\u001B[31mIndexError\u001B[39m: list index out of range"
     ]
    }
   ],
   "source": [
    "desk_items=[\"stapler\",\"tape\",\"keyboard\",\"monitor\",\"mouse\"]\n",
    "print(desk_items[1]) #tape\n",
    "print(desk_items[4]) #mouse\n",
    "print(desk_items[5]) #index out of range\n",
    "print(desk_items[0]) #stapler"
   ]
  },
  {
   "cell_type": "markdown",
   "id": "459709cf",
   "metadata": {},
   "source": [
    "**Quick check 25.3**\n",
    "What's printed by the following code? "
   ]
  },
  {
   "cell_type": "code",
   "execution_count": null,
   "id": "6db001d0",
   "metadata": {},
   "outputs": [
    {
     "name": "stdout",
     "output_type": "stream",
     "text": [
      "1\n",
      "3\n",
      "0\n",
      "7\n",
      "2\n"
     ]
    },
    {
     "ename": "ValueError",
     "evalue": "'zero' is not in list",
     "output_type": "error",
     "traceback": [
      "\u001B[31m---------------------------------------------------------------------------\u001B[39m",
      "\u001B[31mValueError\u001B[39m                                Traceback (most recent call last)",
      "\u001B[36mCell\u001B[39m\u001B[36m \u001B[39m\u001B[32mIn[13]\u001B[39m\u001B[32m, line 7\u001B[39m\n\u001B[32m      5\u001B[39m \u001B[38;5;28mprint\u001B[39m(\u001B[38;5;28mlen\u001B[39m(L)) \u001B[38;5;66;03m#7\u001B[39;00m\n\u001B[32m      6\u001B[39m \u001B[38;5;28mprint\u001B[39m(L.index(\u001B[33m\"\u001B[39m\u001B[33mtwo\u001B[39m\u001B[33m\"\u001B[39m)) \u001B[38;5;66;03m#2\u001B[39;00m\n\u001B[32m----> \u001B[39m\u001B[32m7\u001B[39m \u001B[38;5;28mprint\u001B[39m(\u001B[43mL\u001B[49m\u001B[43m.\u001B[49m\u001B[43mindex\u001B[49m\u001B[43m(\u001B[49m\u001B[33;43m\"\u001B[39;49m\u001B[33;43mzero\u001B[39;49m\u001B[33;43m\"\u001B[39;49m\u001B[43m)\u001B[49m) \u001B[38;5;66;03m#error\u001B[39;00m\n",
      "\u001B[31mValueError\u001B[39m: 'zero' is not in list"
     ]
    }
   ],
   "source": [
    "L=[\"one\",\"three\",\"two\",\"four\",\"three\",\"three\",\"five\"]\n",
    "print(L.count(\"one\")) #1\n",
    "print(L.count(\"three\")) #4\n",
    "print(L.count(\"zero\")) #0\n",
    "print(len(L)) #7\n",
    "    #the correction says 8, why though?\n",
    "print(L.index(\"two\")) #2\n",
    "print(L.index(\"zero\")) #error"
   ]
  },
  {
   "cell_type": "markdown",
   "id": "f851dc3d",
   "metadata": {},
   "source": [
    "**Quick check 25.4**\n",
    "What's printed after each code snippet is executed?"
   ]
  },
  {
   "cell_type": "code",
   "execution_count": null,
   "id": "629b16c7",
   "metadata": {},
   "outputs": [
    {
     "name": "stdout",
     "output_type": "stream",
     "text": [
      "[1, '1']\n"
     ]
    }
   ],
   "source": [
    "one=[1]\n",
    "one.append(\"1\")\n",
    "print(one)"
   ]
  },
  {
   "cell_type": "code",
   "execution_count": null,
   "id": "3531e0be",
   "metadata": {},
   "outputs": [
    {
     "name": "stdout",
     "output_type": "stream",
     "text": [
      "[0, ['zero']]\n"
     ]
    }
   ],
   "source": [
    "zero=[]\n",
    "zero.append(0)\n",
    "zero.append([\"zero\"])\n",
    "print(zero)"
   ]
  },
  {
   "cell_type": "code",
   "execution_count": null,
   "id": "fb3e8c53",
   "metadata": {},
   "outputs": [
    {
     "name": "stdout",
     "output_type": "stream",
     "text": [
      "[]\n"
     ]
    }
   ],
   "source": [
    "two=[]\n",
    "three=[]\n",
    "three.extend(two)\n",
    "print(three)"
   ]
  },
  {
   "cell_type": "code",
   "execution_count": null,
   "id": "361db347",
   "metadata": {},
   "outputs": [
    {
     "name": "stdout",
     "output_type": "stream",
     "text": [
      "[1, 2, 3, 4, 5]\n",
      "[0, 1, 2, 3, 4, 5]\n"
     ]
    }
   ],
   "source": [
    "four=[1,2,3,4]\n",
    "four.insert(len(four),5)\n",
    "print(four)\n",
    "four.insert(0,0)\n",
    "print(four)"
   ]
  },
  {
   "cell_type": "markdown",
   "id": "ee706326",
   "metadata": {},
   "source": [
    "**Quick check 25.5**\n",
    "What's printed when this code snippet is executed?"
   ]
  },
  {
   "cell_type": "code",
   "execution_count": null,
   "id": "e2fef3e7",
   "metadata": {},
   "outputs": [
    {
     "name": "stdout",
     "output_type": "stream",
     "text": [
      "[3, 1, 4, 5, 9]\n",
      "[3, 1, 4, 5]\n",
      "[3, 1, 4]\n"
     ]
    }
   ],
   "source": [
    "pi=[3,\".\",1,4,1,5,9]\n",
    "pi.pop(1) #pops the value at index 1\n",
    "print(pi)\n",
    "pi.pop() #pops the last element\n",
    "print(pi) \n",
    "pi.pop() #pops the last element\n",
    "print(pi)"
   ]
  },
  {
   "cell_type": "markdown",
   "id": "efaf907d",
   "metadata": {},
   "source": [
    "**Quick check 25.6**\n",
    "If L is a list of integers that initially contains the numbers shown in the first line of code that follows, what's the value of L after each of the four subsequent operations are done in order?"
   ]
  },
  {
   "cell_type": "code",
   "execution_count": null,
   "id": "3b163dce",
   "metadata": {},
   "outputs": [
    {
     "name": "stdout",
     "output_type": "stream",
     "text": [
      "[1, 2, 3, 4, 7, 11, 13, 17]\n",
      "[1, 2, 3, 4, 6, 11, 13, 17]\n",
      "[1, 2, 3, 4, 6, 11, 13, 1]\n",
      "[3, 2, 3, 4, 6, 11, 13, 1]\n"
     ]
    }
   ],
   "source": [
    "L=[1,2,3,5,7,11,13,17]\n",
    "L[3]=4 #[1,2,3,4,5,7,11,13,17]\n",
    "print(L)\n",
    "L[4]=6 #[1,2,3,4,6,5,7,11,13,17]\n",
    "print(L)\n",
    "L[-1]=L[0] #[1, 2, 3, 4, 6, 11, 13, 1]\n",
    "print(L)\n",
    "L[0]=L[1]+1 #[3, 2, 3, 4, 6, 11, 13, 1]\n",
    "print(L)\n"
   ]
  },
  {
   "cell_type": "markdown",
   "id": "c7c8b4dd",
   "metadata": {},
   "source": [
    "**Q25.1**\n",
    "You start out with the following empty list, intending to contain the items in a restaurant menu.\n",
    "menu = []\n",
    "1. Write one or more commands that mutate list, so that the list menue contains [\"pizza\",\"beer\",\"fries\",\"wings\",\"salad\"]\n",
    "2. Continuing on, write one or more commands that mutate the list to contain [\"salad\",\"fries\",\"wings\",\"pizza\"]\n",
    "3. Finally, write one or more commands that mutate the list, so that is contains [\"salad\",\"quinoa\",\"steak\"]"
   ]
  },
  {
   "cell_type": "code",
   "execution_count": null,
   "id": "cde043b8",
   "metadata": {},
   "outputs": [
    {
     "name": "stdout",
     "output_type": "stream",
     "text": [
      "['pizza', 'beer', 'fries', 'wings', 'salad']\n",
      "['salad', 'beer', 'fries', 'wings', 'salad']\n",
      "['salad', 'beer', 'fries', 'wings']\n",
      "['salad', 'fries', 'wings', 'pizza']\n",
      "['salad', 'quinoa', 'steak']\n"
     ]
    }
   ],
   "source": [
    "menu=[]\n",
    "menu.append(\"pizza\")\n",
    "menu.append(\"beer\")\n",
    "menu.append(\"fries\")\n",
    "menu.append(\"wings\")\n",
    "menu.append(\"salad\")\n",
    "print(menu)\n",
    "\n",
    "menu[0]=menu[-1]\n",
    "print(menu)\n",
    "menu.pop(-1)\n",
    "print(menu)\n",
    "menu.append(\"pizza\")\n",
    "menu.pop(1)\n",
    "print(menu)\n",
    "\n",
    "menu.pop(-1)\n",
    "menu[1]=\"quinoa\"\n",
    "menu[2]=\"steak\"\n",
    "print(menu)"
   ]
  },
  {
   "cell_type": "code",
   "execution_count": null,
   "id": "68d97839",
   "metadata": {},
   "outputs": [],
   "source": [
    "#CORRECTION\n",
    "menu=[]\n",
    "menu.append(\"pizza\")\n",
    "menu.append(\"beer\")\n",
    "menu.append(\"fries\")\n",
    "menu.append(\"wings\")\n",
    "menu.append(\"salad\")\n",
    "\n",
    "menu[0]=menu[-1]\n",
    "menu[-1]=\"\"\n",
    "menu.pop(1)\n",
    "menu[-1]=\"pizza\"\n",
    "\n",
    "menu.pop()\n",
    "menu.pop()\n",
    "menu.pop()\n",
    "menu.append(\"quinoa\")\n",
    "menu.append(\"steak\")"
   ]
  },
  {
   "cell_type": "markdown",
   "id": "192f920c",
   "metadata": {},
   "source": [
    "**Q25.2**\n",
    "Write a function named 'unique'. It takes in one parameter, a list named 'L'. The function doesn't mutate 'L' and returns a new list containing only the unique elements in 'L'."
   ]
  },
  {
   "metadata": {},
   "cell_type": "code",
   "outputs": [],
   "execution_count": null,
   "source": [
    "#mutate\n",
    "_list = [1, 2, 3, 4]\n",
    "print(f\"c'est ma list: {_list}\")\n",
    "muting = _list.pop(3)\n",
    "print(f\"ce que j'ai fait pop de ma list {muting}\")\n",
    "print(f\"ma list après muting: {_list}\")\n",
    "_list.append(muting)\n",
    "print(f\"List après append: {_list}\")"
   ],
   "id": "87c2ba47b59b783d"
  },
  {
   "metadata": {
    "ExecuteTime": {
     "end_time": "2025-10-03T08:35:40.096847Z",
     "start_time": "2025-10-03T08:35:40.094108Z"
    }
   },
   "cell_type": "code",
   "source": [
    "def unique(L: list):\n",
    "    #linting, pydantic\n",
    "    new_l = []\n",
    "    for i in L:\n",
    "        new_l.append(i)\n",
    "    \n",
    "    return new_l"
   ],
   "id": "74890b68c65f68c4",
   "outputs": [],
   "execution_count": 13
  },
  {
   "metadata": {
    "ExecuteTime": {
     "end_time": "2025-10-03T08:35:41.739214Z",
     "start_time": "2025-10-03T08:35:41.736072Z"
    }
   },
   "cell_type": "code",
   "source": "print(unique([0]))",
   "id": "4ec1798659dfd3a9",
   "outputs": [
    {
     "name": "stdout",
     "output_type": "stream",
     "text": [
      "[0]\n"
     ]
    }
   ],
   "execution_count": 14
  },
  {
   "metadata": {},
   "cell_type": "code",
   "outputs": [],
   "execution_count": null,
   "source": [
    "#Correction\n",
    "def unique(L):\n",
    "    L_unique=[]\n",
    "    for n in L:\n",
    "        if n not in L_unique:\n",
    "            L_unique.append(n)"
   ],
   "id": "e78db7d4c67b0185"
  },
  {
   "cell_type": "code",
   "execution_count": null,
   "id": "f88e79b7",
   "metadata": {},
   "outputs": [],
   "source": [
    "#Correction\n",
    "def unique(L):\n",
    "    L_unique=[]\n",
    "    for n in L:\n",
    "        if n not in L_unique:\n",
    "            L_unique.append(n)"
   ]
  },
  {
   "cell_type": "markdown",
   "id": "0c38cf2f",
   "metadata": {},
   "source": [
    "**Q25.3** Write a function named 'common'. It takes in two parameters, lists named L1 and L2. The function doesn't mutate L1 or L2. It returns True if every unique elements in L1 is in L2 and if every unique elements in L2 is in L1. It returns False otherwise. Hint: try to reuse your function from Q25.2."
   ]
  },
  {
   "cell_type": "code",
   "execution_count": 7,
   "id": "e02ddfbe",
   "metadata": {},
   "outputs": [],
   "source": [
    "def common(L1,L2):\n",
    "    if L1==L2:\n",
    "        True\n",
    "    else:\n",
    "        False"
   ]
  },
  {
   "cell_type": "code",
   "execution_count": null,
   "id": "de337761",
   "metadata": {},
   "outputs": [],
   "source": [
    "#Correction\n",
    "def unique(L):\n",
    "    L_unique=[]\n",
    "    for n in L:\n",
    "        if n not in L_unique:\n",
    "            L_unique.append(n)\n",
    "    return L_unique\n",
    "\n",
    "def common(L1,L2):\n",
    "    unique_L1=unique(L1)\n",
    "    unique_L2=unique\n",
    "    length_L1=len(unqiue_L1)\n",
    "    length_L2=len(unique_L2)\n",
    "    if length_L1 !=length_L2:\n",
    "        return False\n",
    "    else:\n",
    "        for i in range(length_L1):\n",
    "            if L1[1] not in L2:\n",
    "                return False    \n",
    "            return True\n",
    "\n",
    "    "
   ]
  },
  {
   "cell_type": "markdown",
   "id": "1823275c",
   "metadata": {},
   "source": [
    "# Quick check 26.1\n",
    "What's the value of a list L after each operation?"
   ]
  },
  {
   "cell_type": "code",
   "execution_count": 11,
   "id": "1be4eb17",
   "metadata": {},
   "outputs": [],
   "source": [
    "L=[\"p\",\"r\",\"o\",\"r\",\"a\",\"m\",\"m\",\"i\",\"n\",\"g\"]\n",
    "L.reverse() #['g', 'n', 'i', 'm', 'm', 'a', 'r', 'o', 'r', 'p']\n",
    "L.sort() #['a', 'g', 'i', 'm', 'm', 'n', 'o', 'p', 'r', 'r']\n",
    "L.reverse() #['r', 'r', 'p', 'o', 'n', 'm', 'm', 'i', 'g', 'a']\n",
    "L.reverse() #['a', 'g', 'i', 'm', 'm', 'n', 'o', 'p', 'r', 'r']\n",
    "L.sort() #['a', 'g', 'i', 'm', 'm', 'n', 'o', 'p', 'r', 'r']"
   ]
  },
  {
   "cell_type": "markdown",
   "id": "ecf9faee",
   "metadata": {},
   "source": [
    "# Quick check 26.2\n",
    "Using the variables set up in listing 26.3, write the line of code to set up a board that looks like this:\n",
    "A 3x3 board\n",
    "___\n",
    "xxx\n",
    "ooo\n",
    "\n",
    "A 3x4 board\n",
    "xoxo\n",
    "ooxx\n",
    "o_xx"
   ]
  },
  {
   "cell_type": "code",
   "execution_count": 17,
   "id": "fbaaa076",
   "metadata": {},
   "outputs": [
    {
     "name": "stdout",
     "output_type": "stream",
     "text": [
      "[['_', '_', '_'], ['x', 'x', 'x'], ['o', 'o', 'o']]\n"
     ]
    }
   ],
   "source": [
    "x='x'\n",
    "o='o'\n",
    "empty='_'\n",
    "\n",
    "board=[[empty,empty,empty], [x,x,x], [o,o,o]]\n",
    "print(board)\n",
    "\n",
    "board=[[x,o,x,o],[o,o,x,x],[o,empty,x,x]]"
   ]
  },
  {
   "cell_type": "markdown",
   "id": "46750e4b",
   "metadata": {},
   "source": [
    "# Quick check 26.3\n",
    "Write a line of code to achieve the following tasks:\n",
    "1. Split the string \" abcdefghjklmnopqrstuvwxz\" by the space character.\n",
    "2. Split the string \"spaces and more spaces\" by words\n",
    "3. Split the string \"the secret of life is 42\" on the letter s."
   ]
  },
  {
   "cell_type": "code",
   "execution_count": 23,
   "id": "17fe3d86",
   "metadata": {},
   "outputs": [
    {
     "data": {
      "text/plain": [
       "['the ', 'ecret of life i', ' 42']"
      ]
     },
     "execution_count": 23,
     "metadata": {},
     "output_type": "execute_result"
    }
   ],
   "source": [
    "\" abcdefghjklmnopqrstuvwxz\".split(' ')\n",
    "\"spaces and more spaces\".split(' ')\n",
    "\"the secret of life is 42\".split('s')\n"
   ]
  },
  {
   "cell_type": "markdown",
   "id": "23041e29",
   "metadata": {},
   "source": [
    "# Quick check 26.4 \n",
    "Are the following situations best representative of a queue, a stack, or neither?\n",
    "1. The undo mechanism in your text edior --> a stack\n",
    "2. Putting tennis balls in a container and then taking them out. --> a stack\n",
    "3. Cars in a line waiting for inspection --> a queue\n",
    "4. Airport luggage entering the carousel and being picked up by its owner ->  neither"
   ]
  },
  {
   "cell_type": "markdown",
   "id": "63ccb692",
   "metadata": {},
   "source": [
    "# Q26.1\n",
    "Write a program that takes in a string containing city names separated by commas, and then prints a list of the city names in sorted order. You can start with this:"
   ]
  },
  {
   "cell_type": "code",
   "execution_count": 6,
   "id": "a951ec79",
   "metadata": {},
   "outputs": [
    {
     "name": "stdout",
     "output_type": "stream",
     "text": [
      "['san francisco', ' boston', ' chicago', 'indianapolis']\n",
      "[' boston', ' chicago', 'indianapolis', 'san francisco']\n"
     ]
    }
   ],
   "source": [
    "cities=\"san francisco, boston, chicago,indianapolis\"\n",
    "\n",
    "list=cities.split(\",\")\n",
    "print(list)\n",
    "list.sort()\n",
    "print(list)\n"
   ]
  },
  {
   "cell_type": "markdown",
   "id": "512bfe4b",
   "metadata": {},
   "source": [
    "# Quick check 27.1\n",
    "For each of the following situations, write a line of code that creates a dictionnary and binds it to a variable with an appropriate name. For each, also indicate the keys and values.\n",
    "1. Empty dictionary of employee names and their phone numbers and addresses.\n",
    "2. Empty dictionary of cities and the number of inches of snow each city got in 1990 and 2000.\n",
    "3. Dictionary of items in a house and their value: a TV worth $2000 and a sofa worth $1500"
   ]
  },
  {
   "cell_type": "code",
   "execution_count": null,
   "id": "e4aad867",
   "metadata": {},
   "outputs": [],
   "source": [
    "employee={\"name\": number}\n",
    "\n",
    "snow={\"city\":inches}\n",
    "\n",
    "house={\"item\",price}\n"
   ]
  },
  {
   "cell_type": "markdown",
   "id": "58e4fb6e",
   "metadata": {},
   "source": [
    "# Correction\n",
    "employee_database={}\n",
    "key: string for the name\n",
    "value: tuple of (phone number as a string, home address as a string)\n",
    "\n",
    "snow_accumulation={}\n",
    "Key: string for the city\n",
    "Value: tuple (int year 1990, float for snow in 1990, int year 2000, float for snow in 2000)"
   ]
  },
  {
   "cell_type": "markdown",
   "id": "d6b30c56",
   "metadata": {},
   "source": [
    "# Quick check 27.2\n",
    "For each of the following, how many entries are in the dictionary? What's the type of the keys, and what's the type of the values?\n",
    "1. d={1:-1,2:-2,3:-3}\n",
    "3 entries, integers\n",
    "2. d={\"1\":1,\"2\":2,\"3\":3}\n",
    "3 entries, strings and integers\n",
    "3. d={2:[0,2],5:[1,1,1,1],3:[2,1,0]}\n",
    "3 entries, integers and lists"
   ]
  },
  {
   "cell_type": "markdown",
   "id": "5be466ed",
   "metadata": {},
   "source": [
    "# Quick check 27.3\n",
    "What's the value of the dictionary after each line is executed?\n",
    "city_pop={}\n",
    "city_pop[\"LA\"]=3884\n",
    "city_pop[\"NYC\"]=8406\n",
    "city_pop[\"SF\"]=837\n",
    "city_pop[\"LA\"]=4031"
   ]
  }
 ],
 "metadata": {
  "kernelspec": {
   "display_name": "Python 3",
   "language": "python",
   "name": "python3"
  },
  "language_info": {
   "codemirror_mode": {
    "name": "ipython",
    "version": 3
   },
   "file_extension": ".py",
   "mimetype": "text/x-python",
   "name": "python",
   "nbconvert_exporter": "python",
   "pygments_lexer": "ipython3",
   "version": "3.12.11"
  }
 },
 "nbformat": 4,
 "nbformat_minor": 5
}
