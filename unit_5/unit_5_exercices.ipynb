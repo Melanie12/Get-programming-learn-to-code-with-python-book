{
 "cells": [
  {
   "cell_type": "markdown",
   "id": "1ffc51ed",
   "metadata": {},
   "source": [
    "## Quick Check 21.1\n",
    "Write a line to define functions with the following specifications:\n",
    "1. a function named set_color takes in two inputs: a string named name (representing the name of an object) and a string named color (representing the name of a color)\n",
    "2. A function named get_inverse that takes in one input: a number named num\n",
    "3. A function named print_my_name that doesn't take any inputs."
   ]
  },
  {
   "cell_type": "markdown",
   "id": "c4724558",
   "metadata": {},
   "source": [
    "1. def set_color (name,color):\n",
    "2. def get_inverse(num):\n",
    "3. def print_my_name():"
   ]
  },
  {
   "cell_type": "markdown",
   "id": "c9863034",
   "metadata": {
    "vscode": {
     "languageId": "plaintext"
    }
   },
   "source": [
    "## Quick check 21.2\n",
    "For the following function definitions, how many parameters does each take in? \n",
    "1. def func_1(one,two,three):\n",
    "2. def func_2():\n",
    "3. def func_3(head,shoulders,knees,toes):"
   ]
  },
  {
   "cell_type": "markdown",
   "id": "71cfd178",
   "metadata": {},
   "source": [
    "1. three parameters\n",
    "2. 0 parameter\n",
    "3. four parameters"
   ]
  },
  {
   "cell_type": "markdown",
   "id": "122ab666",
   "metadata": {
    "vscode": {
     "languageId": "plaintext"
    }
   },
   "source": [
    "## Quick check 21.3\n",
    "Are the bodies of each of the following written without any errors?"
   ]
  },
  {
   "cell_type": "code",
   "execution_count": null,
   "id": "f1695b15",
   "metadata": {},
   "outputs": [],
   "source": [
    "1. def func_1(one,two,three):\n",
    "    if one == two + three:\n",
    "        print(\"equal\")\n",
    "\n",
    "2. def func_2():\n",
    "    return(True and True)\n",
    "\n",
    "3. def func_3(head,shoulders,knees):\n",
    "return \"and toes\""
   ]
  },
  {
   "cell_type": "markdown",
   "id": "96be4248",
   "metadata": {},
   "source": [
    "1. no errors\n",
    "2. no errors\n",
    "3. errors"
   ]
  },
  {
   "cell_type": "markdown",
   "id": "41995774",
   "metadata": {
    "vscode": {
     "languageId": "plaintext"
    }
   },
   "source": [
    "## Quick check 21.4 \n",
    "Come up with an appropriate for functions that do each of following:\n",
    "1. A function that tells you the age of a tree\n",
    "2. A function that translates what your dog is saying\n",
    "3. A function that takes a picture of a cloud and tells you the closests animal it ressembles.\n",
    "4. A function that shows you what you'll look like in 50 years."
   ]
  },
  {
   "cell_type": "markdown",
   "id": "efc415a2",
   "metadata": {
    "vscode": {
     "languageId": "plaintext"
    }
   },
   "source": [
    "1. def age_tree():\n",
    "2. def dog_translator():\n",
    "3. def cloud_pictures_to_animals():\n",
    "4. def face_at_50"
   ]
  },
  {
   "cell_type": "markdown",
   "id": "4068b022",
   "metadata": {
    "vscode": {
     "languageId": "plaintext"
    }
   },
   "source": [
    "## Quick check 21.5\n",
    "What does each function return? What is the type of the return variable?"
   ]
  },
  {
   "cell_type": "code",
   "execution_count": null,
   "id": "ed713a63",
   "metadata": {},
   "outputs": [],
   "source": [
    "1. def func_1(sign):\n",
    "    return len(sign)\n",
    "2. def func_2():\n",
    "    return (True and True)\n",
    "3. def func_3(head,shoulders,knees):\n",
    "    return (\"and toes\")     "
   ]
  },
  {
   "cell_type": "markdown",
   "id": "feaa709f",
   "metadata": {},
   "source": [
    "1. returns the length of the sign variable, number type\n",
    "2. returns true a boolean type\n",
    "3. returns the string \"and toes\""
   ]
  },
  {
   "cell_type": "markdown",
   "id": "00fc370f",
   "metadata": {
    "vscode": {
     "languageId": "plaintext"
    }
   },
   "source": [
    "## Quick check 21.6\n",
    "1. Complete the following function that tells you whether the number and suit match the secret values and the amount won:"
   ]
  },
  {
   "cell_type": "code",
   "execution_count": null,
   "id": "6737b854",
   "metadata": {},
   "outputs": [],
   "source": [
    "def guessed_card(number,suit,bet):\n",
    "    money_won=0\n",
    "    guessed=False\n",
    "    if number==8 and suit == \"hearts\":\n",
    "        money_won=10*bet\n",
    "        guessed=True\n",
    "    else:\n",
    "        money_won=bet/10\n",
    "    # write one line to return two things:\n",
    "    # how much money you won and whether you guessed right or not    \n",
    "    return (money_won,guessed)"
   ]
  },
  {
   "cell_type": "markdown",
   "id": "1a22d509",
   "metadata": {},
   "source": [
    "2. Use the function you wrote in [1]. If executed in the following order, what do the following lines print?"
   ]
  },
  {
   "cell_type": "code",
   "execution_count": null,
   "id": "887fd456",
   "metadata": {},
   "outputs": [],
   "source": [
    "print(guessed_card(8,\"hearts\",10))"
   ]
  },
  {
   "cell_type": "markdown",
   "id": "96f0010a",
   "metadata": {},
   "source": [
    "prints 100 and guessed True"
   ]
  },
  {
   "cell_type": "code",
   "execution_count": null,
   "id": "dcdb73c3",
   "metadata": {},
   "outputs": [],
   "source": [
    "print(guessed_card(\"8\",\"hearts\",10))"
   ]
  },
  {
   "cell_type": "markdown",
   "id": "a7d82086",
   "metadata": {},
   "source": [
    "prints (1.0,False)"
   ]
  },
  {
   "cell_type": "code",
   "execution_count": null,
   "id": "74a594e2",
   "metadata": {},
   "outputs": [],
   "source": [
    "guessed_card(10,\"spades\",5)"
   ]
  },
  {
   "cell_type": "markdown",
   "id": "3d7ab224",
   "metadata": {},
   "source": [
    "doesnt print anything"
   ]
  },
  {
   "cell_type": "code",
   "execution_count": null,
   "id": "970c72d2",
   "metadata": {},
   "outputs": [],
   "source": [
    "(amount,did_win)=guessed_card(\"eight\",\"hearts\",80)\n",
    "print(did_win)\n",
    "print(amount)"
   ]
  },
  {
   "cell_type": "markdown",
   "id": "002a3814",
   "metadata": {},
   "source": [
    "doesn't print anything\n",
    "prints did_win\n",
    "prints amount"
   ]
  },
  {
   "cell_type": "markdown",
   "id": "c85dc0ea",
   "metadata": {},
   "source": [
    "## Quick check 22.1\n",
    "For the following code, what will each line print?"
   ]
  },
  {
   "cell_type": "code",
   "execution_count": null,
   "id": "2fde9a78",
   "metadata": {},
   "outputs": [],
   "source": [
    "def f(a,b):\n",
    "    x=a+b\n",
    "    y=a-b\n",
    "    print(x*y)\n",
    "    return x/y\n",
    "a=1\n",
    "b=2\n",
    "x=5\n",
    "y=6"
   ]
  },
  {
   "cell_type": "markdown",
   "id": "1a8102a3",
   "metadata": {},
   "source": [
    "1. print(f(x,y))\n",
    "2. print(f(a,b))\n",
    "3. print(f(x,a))\n",
    "4. print(f(y,b))\n"
   ]
  }
 ],
 "metadata": {
  "language_info": {
   "name": "python"
  }
 },
 "nbformat": 4,
 "nbformat_minor": 5
}
