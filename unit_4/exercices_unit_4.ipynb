{
 "cells": [
  {
   "cell_type": "markdown",
   "id": "fbda19fc",
   "metadata": {},
   "source": [
    "## Quick check 16.1"
   ]
  },
  {
   "cell_type": "markdown",
   "id": "c62776cc",
   "metadata": {},
   "source": [
    "Write a piece of code that prints the word crazy eight times on separate lines."
   ]
  },
  {
   "cell_type": "code",
   "id": "f63561bc",
   "metadata": {
    "ExecuteTime": {
     "end_time": "2025-08-14T08:12:18.191037Z",
     "start_time": "2025-08-14T08:12:18.187683Z"
    }
   },
   "source": [
    "for i in range(8):\n",
    "    print(\"crazy\")\n"
   ],
   "outputs": [
    {
     "name": "stdout",
     "output_type": "stream",
     "text": [
      "crazy\n",
      "crazy\n",
      "crazy\n",
      "crazy\n",
      "crazy\n",
      "crazy\n",
      "crazy\n",
      "crazy\n"
     ]
    }
   ],
   "execution_count": 1
  },
  {
   "cell_type": "markdown",
   "id": "dd0e6c41",
   "metadata": {},
   "source": [
    "Write a piece of code that prints the word centipede 100 times on separate lines."
   ]
  },
  {
   "cell_type": "code",
   "execution_count": 3,
   "id": "e20bb422",
   "metadata": {},
   "outputs": [
    {
     "name": "stdout",
     "output_type": "stream",
     "text": [
      "centipede\n",
      "centipede\n",
      "centipede\n",
      "centipede\n",
      "centipede\n",
      "centipede\n",
      "centipede\n",
      "centipede\n",
      "centipede\n",
      "centipede\n",
      "centipede\n",
      "centipede\n",
      "centipede\n",
      "centipede\n",
      "centipede\n",
      "centipede\n",
      "centipede\n",
      "centipede\n",
      "centipede\n",
      "centipede\n",
      "centipede\n",
      "centipede\n",
      "centipede\n",
      "centipede\n",
      "centipede\n",
      "centipede\n",
      "centipede\n",
      "centipede\n",
      "centipede\n",
      "centipede\n",
      "centipede\n",
      "centipede\n",
      "centipede\n",
      "centipede\n",
      "centipede\n",
      "centipede\n",
      "centipede\n",
      "centipede\n",
      "centipede\n",
      "centipede\n",
      "centipede\n",
      "centipede\n",
      "centipede\n",
      "centipede\n",
      "centipede\n",
      "centipede\n",
      "centipede\n",
      "centipede\n",
      "centipede\n",
      "centipede\n",
      "centipede\n",
      "centipede\n",
      "centipede\n",
      "centipede\n",
      "centipede\n",
      "centipede\n",
      "centipede\n",
      "centipede\n",
      "centipede\n",
      "centipede\n",
      "centipede\n",
      "centipede\n",
      "centipede\n",
      "centipede\n",
      "centipede\n",
      "centipede\n",
      "centipede\n",
      "centipede\n",
      "centipede\n",
      "centipede\n",
      "centipede\n",
      "centipede\n",
      "centipede\n",
      "centipede\n",
      "centipede\n",
      "centipede\n",
      "centipede\n",
      "centipede\n",
      "centipede\n",
      "centipede\n",
      "centipede\n",
      "centipede\n",
      "centipede\n",
      "centipede\n",
      "centipede\n",
      "centipede\n",
      "centipede\n",
      "centipede\n",
      "centipede\n",
      "centipede\n",
      "centipede\n",
      "centipede\n",
      "centipede\n",
      "centipede\n",
      "centipede\n",
      "centipede\n",
      "centipede\n",
      "centipede\n",
      "centipede\n",
      "centipede\n"
     ]
    }
   ],
   "source": [
    "for i in range(100):\n",
    "    print(\"centipede\")"
   ]
  },
  {
   "cell_type": "markdown",
   "id": "54da164b",
   "metadata": {},
   "source": [
    "## Quick check 16.2 "
   ]
  },
  {
   "cell_type": "markdown",
   "id": "bdbfdb7d",
   "metadata": {},
   "source": [
    "What sequence of values does the following evaluates to?\n",
    "1. range(1) 0,1\n",
    "2. range(5) 0,1,2,3,4\n",
    "3. range(100) 0,1,...,99"
   ]
  },
  {
   "cell_type": "markdown",
   "id": "8f573696",
   "metadata": {},
   "source": [
    "## Summary question Q16.1"
   ]
  },
  {
   "cell_type": "markdown",
   "id": "a4f42a77",
   "metadata": {},
   "source": [
    "Write a piece of code that asks the user for a number. Then write a loop that iterates that number of times and prints Hello every time. Is it possible to write this code without using a for loop?"
   ]
  },
  {
   "cell_type": "code",
   "execution_count": 13,
   "id": "19c26288",
   "metadata": {},
   "outputs": [
    {
     "name": "stdout",
     "output_type": "stream",
     "text": [
      "6\n",
      "Hello\n",
      "Hello\n",
      "Hello\n",
      "Hello\n",
      "Hello\n",
      "Hello\n"
     ]
    }
   ],
   "source": [
    "user=int(input(\"pick a number\"))\n",
    "print(user)\n",
    "num =0\n",
    "while num < user:\n",
    "    print(\"Hello\")\n",
    "    num +=1"
   ]
  },
  {
   "cell_type": "markdown",
   "id": "abb1ea01",
   "metadata": {},
   "source": [
    "## Quick check 17.1 "
   ]
  },
  {
   "cell_type": "markdown",
   "id": "27463e43",
   "metadata": {},
   "source": [
    "To what sequence of values do the following expressions evaluate? \n",
    "1. range(0,9) 0,1,2...8\n",
    "2. range(3,8) 3,4,5,..,7\n",
    "3. range(-2,3,2) -2,0,2\n",
    "4. range(5,-5,-3) 5, 2,-1,-4\n",
    "5. range(4,1,2) no values"
   ]
  },
  {
   "cell_type": "markdown",
   "id": "4ce9767c",
   "metadata": {},
   "source": [
    "## Quick check 17.2"
   ]
  },
  {
   "cell_type": "markdown",
   "id": "608699d2",
   "metadata": {},
   "source": [
    "Write a piece of code that asks the user for input. Then write a loop that iterates over every character. The code prints vowel every time it encounters a vowel character."
   ]
  },
  {
   "cell_type": "code",
   "execution_count": 9,
   "id": "84ddee0c",
   "metadata": {},
   "outputs": [
    {
     "name": "stdout",
     "output_type": "stream",
     "text": [
      "input\n"
     ]
    }
   ],
   "source": [
    "user= input(\"Enter a word\")\n",
    "print(user)"
   ]
  },
  {
   "cell_type": "code",
   "execution_count": null,
   "id": "a61a64f1",
   "metadata": {},
   "outputs": [
    {
     "name": "stdout",
     "output_type": "stream",
     "text": [
      "vowel\n",
      "vowel\n"
     ]
    }
   ],
   "source": [
    "for i in user:\n",
    "    if i in \"a,e,i,o,u\":\n",
    "        print (\"vowel\")"
   ]
  },
  {
   "cell_type": "markdown",
   "id": "d2f24f15",
   "metadata": {},
   "source": [
    "## Summary 17.1"
   ]
  },
  {
   "cell_type": "markdown",
   "id": "af02bbd7",
   "metadata": {},
   "source": [
    "Write a program that iterates over all even numbers between 1 and 100. If the number is also divisible by 6, increment a counter. At the end of your program, print how many numbers are even and also divisible by 6."
   ]
  },
  {
   "cell_type": "code",
   "execution_count": 15,
   "id": "f5290324",
   "metadata": {},
   "outputs": [
    {
     "name": "stdout",
     "output_type": "stream",
     "text": [
      "16 numbers are even and divisible by 6\n"
     ]
    }
   ],
   "source": [
    "counter=0\n",
    "for num in range(2,100,2):\n",
    "    if num%6==0:\n",
    "        counter+=1\n",
    "print(counter,\"numbers are even and divisible by 6\")"
   ]
  },
  {
   "cell_type": "markdown",
   "id": "8e139ae5",
   "metadata": {},
   "source": [
    "## Summary 17.2"
   ]
  },
  {
   "cell_type": "markdown",
   "id": "2d95a1a3",
   "metadata": {},
   "source": [
    "Write a program that asks the user for a number, n. Then use loops to repeatedly print a message. For example, if the user inputs 99, your program should print:\n",
    "99 books on Python on the shelf 99 books on Python.\n",
    "Take one down, pass it around, 98 books left.\n",
    "... and so on"
   ]
  },
  {
   "cell_type": "code",
   "execution_count": 1,
   "id": "8c87f1ef",
   "metadata": {},
   "outputs": [
    {
     "name": "stdout",
     "output_type": "stream",
     "text": [
      "100 books on Python on the shelf, 100 books on Python.\n",
      "Take one down, pass it around, 99 books left\n",
      "99 books on Python on the shelf, 99 books on Python.\n",
      "Take one down, pass it around, 98 books left\n",
      "98 books on Python on the shelf, 98 books on Python.\n",
      "Take one down, pass it around, 97 books left\n",
      "97 books on Python on the shelf, 97 books on Python.\n",
      "Take one down, pass it around, 96 books left\n",
      "96 books on Python on the shelf, 96 books on Python.\n",
      "Take one down, pass it around, 95 books left\n",
      "95 books on Python on the shelf, 95 books on Python.\n",
      "Take one down, pass it around, 94 books left\n",
      "94 books on Python on the shelf, 94 books on Python.\n",
      "Take one down, pass it around, 93 books left\n",
      "93 books on Python on the shelf, 93 books on Python.\n",
      "Take one down, pass it around, 92 books left\n",
      "92 books on Python on the shelf, 92 books on Python.\n",
      "Take one down, pass it around, 91 books left\n",
      "91 books on Python on the shelf, 91 books on Python.\n",
      "Take one down, pass it around, 90 books left\n",
      "90 books on Python on the shelf, 90 books on Python.\n",
      "Take one down, pass it around, 89 books left\n",
      "89 books on Python on the shelf, 89 books on Python.\n",
      "Take one down, pass it around, 88 books left\n",
      "88 books on Python on the shelf, 88 books on Python.\n",
      "Take one down, pass it around, 87 books left\n",
      "87 books on Python on the shelf, 87 books on Python.\n",
      "Take one down, pass it around, 86 books left\n",
      "86 books on Python on the shelf, 86 books on Python.\n",
      "Take one down, pass it around, 85 books left\n",
      "85 books on Python on the shelf, 85 books on Python.\n",
      "Take one down, pass it around, 84 books left\n",
      "84 books on Python on the shelf, 84 books on Python.\n",
      "Take one down, pass it around, 83 books left\n",
      "83 books on Python on the shelf, 83 books on Python.\n",
      "Take one down, pass it around, 82 books left\n",
      "82 books on Python on the shelf, 82 books on Python.\n",
      "Take one down, pass it around, 81 books left\n",
      "81 books on Python on the shelf, 81 books on Python.\n",
      "Take one down, pass it around, 80 books left\n",
      "80 books on Python on the shelf, 80 books on Python.\n",
      "Take one down, pass it around, 79 books left\n",
      "79 books on Python on the shelf, 79 books on Python.\n",
      "Take one down, pass it around, 78 books left\n",
      "78 books on Python on the shelf, 78 books on Python.\n",
      "Take one down, pass it around, 77 books left\n",
      "77 books on Python on the shelf, 77 books on Python.\n",
      "Take one down, pass it around, 76 books left\n",
      "76 books on Python on the shelf, 76 books on Python.\n",
      "Take one down, pass it around, 75 books left\n",
      "75 books on Python on the shelf, 75 books on Python.\n",
      "Take one down, pass it around, 74 books left\n",
      "74 books on Python on the shelf, 74 books on Python.\n",
      "Take one down, pass it around, 73 books left\n",
      "73 books on Python on the shelf, 73 books on Python.\n",
      "Take one down, pass it around, 72 books left\n",
      "72 books on Python on the shelf, 72 books on Python.\n",
      "Take one down, pass it around, 71 books left\n",
      "71 books on Python on the shelf, 71 books on Python.\n",
      "Take one down, pass it around, 70 books left\n",
      "70 books on Python on the shelf, 70 books on Python.\n",
      "Take one down, pass it around, 69 books left\n",
      "69 books on Python on the shelf, 69 books on Python.\n",
      "Take one down, pass it around, 68 books left\n",
      "68 books on Python on the shelf, 68 books on Python.\n",
      "Take one down, pass it around, 67 books left\n",
      "67 books on Python on the shelf, 67 books on Python.\n",
      "Take one down, pass it around, 66 books left\n",
      "66 books on Python on the shelf, 66 books on Python.\n",
      "Take one down, pass it around, 65 books left\n",
      "65 books on Python on the shelf, 65 books on Python.\n",
      "Take one down, pass it around, 64 books left\n",
      "64 books on Python on the shelf, 64 books on Python.\n",
      "Take one down, pass it around, 63 books left\n",
      "63 books on Python on the shelf, 63 books on Python.\n",
      "Take one down, pass it around, 62 books left\n",
      "62 books on Python on the shelf, 62 books on Python.\n",
      "Take one down, pass it around, 61 books left\n",
      "61 books on Python on the shelf, 61 books on Python.\n",
      "Take one down, pass it around, 60 books left\n",
      "60 books on Python on the shelf, 60 books on Python.\n",
      "Take one down, pass it around, 59 books left\n",
      "59 books on Python on the shelf, 59 books on Python.\n",
      "Take one down, pass it around, 58 books left\n",
      "58 books on Python on the shelf, 58 books on Python.\n",
      "Take one down, pass it around, 57 books left\n",
      "57 books on Python on the shelf, 57 books on Python.\n",
      "Take one down, pass it around, 56 books left\n",
      "56 books on Python on the shelf, 56 books on Python.\n",
      "Take one down, pass it around, 55 books left\n",
      "55 books on Python on the shelf, 55 books on Python.\n",
      "Take one down, pass it around, 54 books left\n",
      "54 books on Python on the shelf, 54 books on Python.\n",
      "Take one down, pass it around, 53 books left\n",
      "53 books on Python on the shelf, 53 books on Python.\n",
      "Take one down, pass it around, 52 books left\n",
      "52 books on Python on the shelf, 52 books on Python.\n",
      "Take one down, pass it around, 51 books left\n",
      "51 books on Python on the shelf, 51 books on Python.\n",
      "Take one down, pass it around, 50 books left\n",
      "50 books on Python on the shelf, 50 books on Python.\n",
      "Take one down, pass it around, 49 books left\n",
      "49 books on Python on the shelf, 49 books on Python.\n",
      "Take one down, pass it around, 48 books left\n",
      "48 books on Python on the shelf, 48 books on Python.\n",
      "Take one down, pass it around, 47 books left\n",
      "47 books on Python on the shelf, 47 books on Python.\n",
      "Take one down, pass it around, 46 books left\n",
      "46 books on Python on the shelf, 46 books on Python.\n",
      "Take one down, pass it around, 45 books left\n",
      "45 books on Python on the shelf, 45 books on Python.\n",
      "Take one down, pass it around, 44 books left\n",
      "44 books on Python on the shelf, 44 books on Python.\n",
      "Take one down, pass it around, 43 books left\n",
      "43 books on Python on the shelf, 43 books on Python.\n",
      "Take one down, pass it around, 42 books left\n",
      "42 books on Python on the shelf, 42 books on Python.\n",
      "Take one down, pass it around, 41 books left\n",
      "41 books on Python on the shelf, 41 books on Python.\n",
      "Take one down, pass it around, 40 books left\n",
      "40 books on Python on the shelf, 40 books on Python.\n",
      "Take one down, pass it around, 39 books left\n",
      "39 books on Python on the shelf, 39 books on Python.\n",
      "Take one down, pass it around, 38 books left\n",
      "38 books on Python on the shelf, 38 books on Python.\n",
      "Take one down, pass it around, 37 books left\n",
      "37 books on Python on the shelf, 37 books on Python.\n",
      "Take one down, pass it around, 36 books left\n",
      "36 books on Python on the shelf, 36 books on Python.\n",
      "Take one down, pass it around, 35 books left\n",
      "35 books on Python on the shelf, 35 books on Python.\n",
      "Take one down, pass it around, 34 books left\n",
      "34 books on Python on the shelf, 34 books on Python.\n",
      "Take one down, pass it around, 33 books left\n",
      "33 books on Python on the shelf, 33 books on Python.\n",
      "Take one down, pass it around, 32 books left\n",
      "32 books on Python on the shelf, 32 books on Python.\n",
      "Take one down, pass it around, 31 books left\n",
      "31 books on Python on the shelf, 31 books on Python.\n",
      "Take one down, pass it around, 30 books left\n",
      "30 books on Python on the shelf, 30 books on Python.\n",
      "Take one down, pass it around, 29 books left\n",
      "29 books on Python on the shelf, 29 books on Python.\n",
      "Take one down, pass it around, 28 books left\n",
      "28 books on Python on the shelf, 28 books on Python.\n",
      "Take one down, pass it around, 27 books left\n",
      "27 books on Python on the shelf, 27 books on Python.\n",
      "Take one down, pass it around, 26 books left\n",
      "26 books on Python on the shelf, 26 books on Python.\n",
      "Take one down, pass it around, 25 books left\n",
      "25 books on Python on the shelf, 25 books on Python.\n",
      "Take one down, pass it around, 24 books left\n",
      "24 books on Python on the shelf, 24 books on Python.\n",
      "Take one down, pass it around, 23 books left\n",
      "23 books on Python on the shelf, 23 books on Python.\n",
      "Take one down, pass it around, 22 books left\n",
      "22 books on Python on the shelf, 22 books on Python.\n",
      "Take one down, pass it around, 21 books left\n",
      "21 books on Python on the shelf, 21 books on Python.\n",
      "Take one down, pass it around, 20 books left\n",
      "20 books on Python on the shelf, 20 books on Python.\n",
      "Take one down, pass it around, 19 books left\n",
      "19 books on Python on the shelf, 19 books on Python.\n",
      "Take one down, pass it around, 18 books left\n",
      "18 books on Python on the shelf, 18 books on Python.\n",
      "Take one down, pass it around, 17 books left\n",
      "17 books on Python on the shelf, 17 books on Python.\n",
      "Take one down, pass it around, 16 books left\n",
      "16 books on Python on the shelf, 16 books on Python.\n",
      "Take one down, pass it around, 15 books left\n",
      "15 books on Python on the shelf, 15 books on Python.\n",
      "Take one down, pass it around, 14 books left\n",
      "14 books on Python on the shelf, 14 books on Python.\n",
      "Take one down, pass it around, 13 books left\n",
      "13 books on Python on the shelf, 13 books on Python.\n",
      "Take one down, pass it around, 12 books left\n",
      "12 books on Python on the shelf, 12 books on Python.\n",
      "Take one down, pass it around, 11 books left\n",
      "11 books on Python on the shelf, 11 books on Python.\n",
      "Take one down, pass it around, 10 books left\n",
      "10 books on Python on the shelf, 10 books on Python.\n",
      "Take one down, pass it around, 9 books left\n",
      "9 books on Python on the shelf, 9 books on Python.\n",
      "Take one down, pass it around, 8 books left\n",
      "8 books on Python on the shelf, 8 books on Python.\n",
      "Take one down, pass it around, 7 books left\n",
      "7 books on Python on the shelf, 7 books on Python.\n",
      "Take one down, pass it around, 6 books left\n",
      "6 books on Python on the shelf, 6 books on Python.\n",
      "Take one down, pass it around, 5 books left\n",
      "5 books on Python on the shelf, 5 books on Python.\n",
      "Take one down, pass it around, 4 books left\n",
      "4 books on Python on the shelf, 4 books on Python.\n",
      "Take one down, pass it around, 3 books left\n",
      "3 books on Python on the shelf, 3 books on Python.\n",
      "Take one down, pass it around, 2 books left\n",
      "2 books on Python on the shelf, 2 books on Python.\n",
      "Take one down, pass it around, 1 books left\n",
      "1 books on Python on the shelf, 1 books on Python.\n",
      "Take one down, pass it around, 0 books left\n"
     ]
    }
   ],
   "source": [
    "num=100\n",
    "for num in range(100,0,-1):\n",
    "    print(f\"{num} books on Python on the shelf, {num} books on Python.\")\n",
    "    num -=1\n",
    "    print(f\"Take one down, pass it around, {num} books left\")"
   ]
  },
  {
   "cell_type": "code",
   "execution_count": 2,
   "id": "66c90d8f",
   "metadata": {},
   "outputs": [
    {
     "name": "stdout",
     "output_type": "stream",
     "text": [
      "2 books on Python on the shelf 2 books on Python\n",
      "Take one down, pass it around, 1  books left.\n",
      "1 book on Python on the shelf 1 book on Python\n",
      "Take one down, pass it around, no more books!\n"
     ]
    }
   ],
   "source": [
    "count=int(input(\"How many books on Python do you have?\"))\n",
    "for n in range(count,0,-1):\n",
    "    if n==1:\n",
    "        print(n,\"book on Python on the shelf\", n, \"book on Python\")\n",
    "        print(\"Take one down, pass it around, no more books!\")\n",
    "    else:\n",
    "        print(n, \"books on Python on the shelf\", n, \"books on Python\")\n",
    "        print(\"Take one down, pass it around,\",n-1, \" books left.\")\n"
   ]
  },
  {
   "cell_type": "markdown",
   "id": "d25503ef",
   "metadata": {},
   "source": [
    "## Summary Question 17.3"
   ]
  },
  {
   "cell_type": "markdown",
   "id": "ccc07b2b",
   "metadata": {},
   "source": [
    "Write a program that asks the user to input names separated by a single space. Your program should print a greeting for every name entered, separated by a newline. For example, if the user enters _Zoe Xander Young_ your program prints out _Hi Zoe_ and then on the next line _Hi Xander_ and then on the next line _Hi Young_. Don't forget to reset your name variable whe you see the space!"
   ]
  },
  {
   "cell_type": "code",
   "execution_count": null,
   "id": "f4de1f5d",
   "metadata": {},
   "outputs": [],
   "source": [
    "user=input(\"Give three names separated by a space\")\n",
    "name=\"\"\n",
    "for n in name:\n",
    "    if n==\"\\n\""
   ]
  },
  {
   "cell_type": "markdown",
   "id": "94107c7a",
   "metadata": {},
   "source": [
    "## Quick check 18.1 "
   ]
  },
  {
   "cell_type": "markdown",
   "id": "f98f8462",
   "metadata": {},
   "source": [
    "Write a piece of code that asks the user for a number between 1 and 14. If the user guesses right, print You guessed right, my number was and then print the number. Otherwise, keep asking for another guess."
   ]
  },
  {
   "cell_type": "code",
   "execution_count": 7,
   "id": "dfd376e4",
   "metadata": {},
   "outputs": [
    {
     "name": "stdout",
     "output_type": "stream",
     "text": [
      "Right\n"
     ]
    }
   ],
   "source": [
    "num =8\n",
    "guess = int(input(\"Guess my number: \"))\n",
    "while guess !=num:\n",
    "    guess=int(input(\"Guess again: \"))\n",
    "print(\"Right\")"
   ]
  },
  {
   "metadata": {
    "ExecuteTime": {
     "end_time": "2025-08-14T08:12:38.888773Z",
     "start_time": "2025-08-14T08:12:38.886521Z"
    }
   },
   "cell_type": "code",
   "source": "type(1 + 1)",
   "id": "7e912ac9e36e185c",
   "outputs": [
    {
     "data": {
      "text/plain": [
       "int"
      ]
     },
     "execution_count": 4,
     "metadata": {},
     "output_type": "execute_result"
    }
   ],
   "execution_count": 4
  },
  {
   "metadata": {
    "ExecuteTime": {
     "end_time": "2025-08-14T08:22:42.671592Z",
     "start_time": "2025-08-14T08:22:42.667948Z"
    }
   },
   "cell_type": "code",
   "source": [
    "gauche = 32\n",
    "droite = 698"
   ],
   "id": "6b5569274d9edaba",
   "outputs": [],
   "execution_count": 37
  },
  {
   "metadata": {
    "ExecuteTime": {
     "end_time": "2025-08-14T08:16:12.582176Z",
     "start_time": "2025-08-14T08:16:12.580761Z"
    }
   },
   "cell_type": "code",
   "source": "del test",
   "id": "5c5d0921d46fb036",
   "outputs": [],
   "execution_count": 28
  },
  {
   "metadata": {
    "ExecuteTime": {
     "end_time": "2025-08-14T08:23:17.782878Z",
     "start_time": "2025-08-14T08:23:17.781054Z"
    }
   },
   "cell_type": "code",
   "source": [
    "import operator\n",
    "dict_ = {\n",
    "    \"addition\": operator.add,\n",
    "    \"substract\": operator.sub,\n",
    "    \"test\": \"Mel\"\n",
    "}"
   ],
   "id": "bad2003039459576",
   "outputs": [],
   "execution_count": 41
  },
  {
   "metadata": {
    "ExecuteTime": {
     "end_time": "2025-08-14T08:23:23.953692Z",
     "start_time": "2025-08-14T08:23:23.952184Z"
    }
   },
   "cell_type": "code",
   "source": "arithmetic_arranger = [\"32 * 698\", \"3801 - 2\", \"45 + 43\", \"123 + 49\"]",
   "id": "c24d194b49b2e3da",
   "outputs": [],
   "execution_count": 44
  },
  {
   "metadata": {
    "ExecuteTime": {
     "end_time": "2025-08-14T08:23:29.438477Z",
     "start_time": "2025-08-14T08:23:29.435398Z"
    }
   },
   "cell_type": "code",
   "source": [
    "if '+' in arithmetic_arranger[0]:\n",
    "    print(f\"Si il y a un + dans ça: {arithmetic_arranger[0]} alors:\")\n",
    "    print(dict_[\"addition\"](gauche, droite))\n",
    "elif '-' in arithmetic_arranger[0]:\n",
    "    print(dict_[\"substract\"](gauche, droite))\n",
    "else:\n",
    "    print(\"Error: Operator must be '+' or '-'.\")"
   ],
   "id": "466278cc116cdd2e",
   "outputs": [
    {
     "name": "stdout",
     "output_type": "stream",
     "text": [
      "Error: Operator must be '+' or '-'.\n"
     ]
    }
   ],
   "execution_count": 46
  },
  {
   "metadata": {
    "ExecuteTime": {
     "end_time": "2025-08-14T08:33:33.230053Z",
     "start_time": "2025-08-14T08:33:33.223383Z"
    }
   },
   "cell_type": "code",
   "source": [
    "for i in range(0, 10, 2):\n",
    "    toto = i\n",
    "    tata = i**2\n",
    "    \n",
    "print(toto, tata)"
   ],
   "id": "fc73876e0bd3a465",
   "outputs": [
    {
     "name": "stdout",
     "output_type": "stream",
     "text": [
      "8 64\n"
     ]
    }
   ],
   "execution_count": 47
  },
  {
   "metadata": {
    "ExecuteTime": {
     "end_time": "2025-08-14T08:55:15.052593Z",
     "start_time": "2025-08-14T08:55:15.050378Z"
    }
   },
   "cell_type": "code",
   "source": [
    "def arithmetic_arranger(problems, show_answers=False):\n",
    "    return f\"problem = {problems}, show_answers = {show_answers}\", test"
   ],
   "id": "6ccfc762f81fcaa7",
   "outputs": [],
   "execution_count": 55
  },
  {
   "metadata": {
    "ExecuteTime": {
     "end_time": "2025-08-14T08:56:25.006630Z",
     "start_time": "2025-08-14T08:56:25.002607Z"
    }
   },
   "cell_type": "code",
   "source": "print(f'\\n{arithmetic_arranger([\"32 + 698\", \"3801 - 2\", \"45 + 43\", \"123 + 49\"])}')",
   "id": "d9ad7b38dcef80e1",
   "outputs": [
    {
     "name": "stdout",
     "output_type": "stream",
     "text": [
      "\n",
      "problem = ['32 + 698', '3801 - 2', '45 + 43', '123 + 49'], show_answers = False\n"
     ]
    }
   ],
   "execution_count": 58
  },
  {
   "metadata": {
    "ExecuteTime": {
     "end_time": "2025-08-14T08:57:41.768836Z",
     "start_time": "2025-08-14T08:57:41.763007Z"
    }
   },
   "cell_type": "code",
   "source": "test = \"Mel essaie de comprendre les paramètres\"",
   "id": "12de3bfafff152e9",
   "outputs": [],
   "execution_count": 59
  },
  {
   "metadata": {
    "ExecuteTime": {
     "end_time": "2025-08-14T08:59:39.266634Z",
     "start_time": "2025-08-14T08:59:39.258903Z"
    }
   },
   "cell_type": "code",
   "source": "test.split(maxsplit=2, sep=\" \")",
   "id": "8e0c232b087ede6a",
   "outputs": [
    {
     "data": {
      "text/plain": [
       "['Mel', 'essaie', 'de comprendre les paramètres']"
      ]
     },
     "execution_count": 66,
     "metadata": {},
     "output_type": "execute_result"
    }
   ],
   "execution_count": 66
  },
  {
   "metadata": {},
   "cell_type": "code",
   "outputs": [],
   "execution_count": null,
   "source": "",
   "id": "f012d555bf66fa0f"
  }
 ],
 "metadata": {
  "kernelspec": {
   "display_name": "Python 3",
   "language": "python",
   "name": "python3"
  },
  "language_info": {
   "codemirror_mode": {
    "name": "ipython",
    "version": 3
   },
   "file_extension": ".py",
   "mimetype": "text/x-python",
   "name": "python",
   "nbconvert_exporter": "python",
   "pygments_lexer": "ipython3",
   "version": "3.12.11"
  }
 },
 "nbformat": 4,
 "nbformat_minor": 5
}
