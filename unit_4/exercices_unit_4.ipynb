{
 "cells": [
  {
   "cell_type": "markdown",
   "id": "fbda19fc",
   "metadata": {},
   "source": [
    "## Quick check 16.1"
   ]
  },
  {
   "cell_type": "markdown",
   "id": "c62776cc",
   "metadata": {},
   "source": [
    "Write a piece of code that prints the word crazy eight times on separate lines."
   ]
  },
  {
   "cell_type": "code",
   "execution_count": 2,
   "id": "f63561bc",
   "metadata": {},
   "outputs": [
    {
     "name": "stdout",
     "output_type": "stream",
     "text": [
      "crazy\n",
      "crazy\n",
      "crazy\n",
      "crazy\n",
      "crazy\n",
      "crazy\n",
      "crazy\n",
      "crazy\n"
     ]
    }
   ],
   "source": [
    "for i in range(8):\n",
    "    print(\"crazy\")\n"
   ]
  },
  {
   "cell_type": "markdown",
   "id": "dd0e6c41",
   "metadata": {},
   "source": [
    "Write a piece of code that prints the word centipede 100 times on separate lines."
   ]
  },
  {
   "cell_type": "code",
   "execution_count": 3,
   "id": "e20bb422",
   "metadata": {},
   "outputs": [
    {
     "name": "stdout",
     "output_type": "stream",
     "text": [
      "centipede\n",
      "centipede\n",
      "centipede\n",
      "centipede\n",
      "centipede\n",
      "centipede\n",
      "centipede\n",
      "centipede\n",
      "centipede\n",
      "centipede\n",
      "centipede\n",
      "centipede\n",
      "centipede\n",
      "centipede\n",
      "centipede\n",
      "centipede\n",
      "centipede\n",
      "centipede\n",
      "centipede\n",
      "centipede\n",
      "centipede\n",
      "centipede\n",
      "centipede\n",
      "centipede\n",
      "centipede\n",
      "centipede\n",
      "centipede\n",
      "centipede\n",
      "centipede\n",
      "centipede\n",
      "centipede\n",
      "centipede\n",
      "centipede\n",
      "centipede\n",
      "centipede\n",
      "centipede\n",
      "centipede\n",
      "centipede\n",
      "centipede\n",
      "centipede\n",
      "centipede\n",
      "centipede\n",
      "centipede\n",
      "centipede\n",
      "centipede\n",
      "centipede\n",
      "centipede\n",
      "centipede\n",
      "centipede\n",
      "centipede\n",
      "centipede\n",
      "centipede\n",
      "centipede\n",
      "centipede\n",
      "centipede\n",
      "centipede\n",
      "centipede\n",
      "centipede\n",
      "centipede\n",
      "centipede\n",
      "centipede\n",
      "centipede\n",
      "centipede\n",
      "centipede\n",
      "centipede\n",
      "centipede\n",
      "centipede\n",
      "centipede\n",
      "centipede\n",
      "centipede\n",
      "centipede\n",
      "centipede\n",
      "centipede\n",
      "centipede\n",
      "centipede\n",
      "centipede\n",
      "centipede\n",
      "centipede\n",
      "centipede\n",
      "centipede\n",
      "centipede\n",
      "centipede\n",
      "centipede\n",
      "centipede\n",
      "centipede\n",
      "centipede\n",
      "centipede\n",
      "centipede\n",
      "centipede\n",
      "centipede\n",
      "centipede\n",
      "centipede\n",
      "centipede\n",
      "centipede\n",
      "centipede\n",
      "centipede\n",
      "centipede\n",
      "centipede\n",
      "centipede\n",
      "centipede\n"
     ]
    }
   ],
   "source": [
    "for i in range(100):\n",
    "    print(\"centipede\")"
   ]
  },
  {
   "cell_type": "markdown",
   "id": "54da164b",
   "metadata": {},
   "source": [
    "## Quick check 16.2 "
   ]
  },
  {
   "cell_type": "markdown",
   "id": "bdbfdb7d",
   "metadata": {},
   "source": [
    "What sequence of values does the following evaluates to?\n",
    "1. range(1) 0,1\n",
    "2. range(5) 0,1,2,3,4\n",
    "3. range(100) 0,1,...,99"
   ]
  },
  {
   "cell_type": "markdown",
   "id": "8f573696",
   "metadata": {},
   "source": [
    "## Summary question Q16.1"
   ]
  },
  {
   "cell_type": "markdown",
   "id": "a4f42a77",
   "metadata": {},
   "source": [
    "Write a piece of code that asks the user for a number. Then write a loop that iterates that number of times and prints Hello every time. Is it possible to write this code without using a for loop?"
   ]
  },
  {
   "cell_type": "code",
   "execution_count": 13,
   "id": "19c26288",
   "metadata": {},
   "outputs": [
    {
     "name": "stdout",
     "output_type": "stream",
     "text": [
      "6\n",
      "Hello\n",
      "Hello\n",
      "Hello\n",
      "Hello\n",
      "Hello\n",
      "Hello\n"
     ]
    }
   ],
   "source": [
    "user=int(input(\"pick a number\"))\n",
    "print(user)\n",
    "num =0\n",
    "while num < user:\n",
    "    print(\"Hello\")\n",
    "    num +=1"
   ]
  },
  {
   "cell_type": "markdown",
   "id": "abb1ea01",
   "metadata": {},
   "source": [
    "## Quick check 17.1 "
   ]
  },
  {
   "cell_type": "markdown",
   "id": "27463e43",
   "metadata": {},
   "source": [
    "To what sequence of values do the following expressions evaluate? \n",
    "1. range(0,9) 0,1,2...8\n",
    "2. range(3,8) 3,4,5,..,7\n",
    "3. range(-2,3,2) -2,0,2\n",
    "4. range(5,-5,-3) 5, 2,-1,-4\n",
    "5. range(4,1,2) no values"
   ]
  },
  {
   "cell_type": "markdown",
   "id": "4ce9767c",
   "metadata": {},
   "source": [
    "## Quick check 17.2"
   ]
  },
  {
   "cell_type": "markdown",
   "id": "608699d2",
   "metadata": {},
   "source": [
    "Write a piece of code that asks the user for input. Then write a loop that iterates over every character. The code prints vowel every time it encounters a vowel character."
   ]
  },
  {
   "cell_type": "code",
   "execution_count": 9,
   "id": "84ddee0c",
   "metadata": {},
   "outputs": [
    {
     "name": "stdout",
     "output_type": "stream",
     "text": [
      "input\n"
     ]
    }
   ],
   "source": [
    "user= input(\"Enter a word\")\n",
    "print(user)"
   ]
  },
  {
   "cell_type": "code",
   "execution_count": null,
   "id": "a61a64f1",
   "metadata": {},
   "outputs": [
    {
     "name": "stdout",
     "output_type": "stream",
     "text": [
      "vowel\n",
      "vowel\n"
     ]
    }
   ],
   "source": [
    "for i in user:\n",
    "    if i in \"a,e,i,o,u\":\n",
    "        print (\"vowel\")"
   ]
  },
  {
   "cell_type": "markdown",
   "id": "d2f24f15",
   "metadata": {},
   "source": [
    "## Summary 17.1"
   ]
  },
  {
   "cell_type": "markdown",
   "id": "af02bbd7",
   "metadata": {},
   "source": [
    "Write a program that iterates over all even numbers between 1 and 100. If the number is also divisible by 6, increment a counter. At the end of your program, print how many numbers are even and also divisible by 6."
   ]
  },
  {
   "cell_type": "code",
   "execution_count": 15,
   "id": "f5290324",
   "metadata": {},
   "outputs": [
    {
     "name": "stdout",
     "output_type": "stream",
     "text": [
      "16 numbers are even and divisible by 6\n"
     ]
    }
   ],
   "source": [
    "counter=0\n",
    "for num in range(2,100,2):\n",
    "    if num%6==0:\n",
    "        counter+=1\n",
    "print(counter,\"numbers are even and divisible by 6\")"
   ]
  },
  {
   "cell_type": "markdown",
   "id": "8e139ae5",
   "metadata": {},
   "source": [
    "## Summary 17.2"
   ]
  },
  {
   "cell_type": "markdown",
   "id": "2d95a1a3",
   "metadata": {},
   "source": [
    "Write a program that asks the user for a number, n. Then use loops to repeatedly print a message. For example, if the user inputs 99, your program should print:\n",
    "99 books on Python on the shelf 99 books on Python.\n",
    "Take one down, pass it around, 98 books left.\n",
    "... and so on"
   ]
  },
  {
   "cell_type": "code",
   "execution_count": null,
   "id": "8c87f1ef",
   "metadata": {},
   "outputs": [],
   "source": []
  },
  {
   "cell_type": "markdown",
   "id": "d25503ef",
   "metadata": {},
   "source": []
  },
  {
   "cell_type": "markdown",
   "id": "94107c7a",
   "metadata": {},
   "source": [
    "## Quick check 18.1 "
   ]
  },
  {
   "cell_type": "markdown",
   "id": "f98f8462",
   "metadata": {},
   "source": [
    "Write a piece of code that asks the user for a number between 1 and 14. If the user guesses right, print You guessed right, my number was and then print the number. Otherwise, keep asking for another guess."
   ]
  },
  {
   "cell_type": "code",
   "execution_count": 7,
   "id": "dfd376e4",
   "metadata": {},
   "outputs": [
    {
     "name": "stdout",
     "output_type": "stream",
     "text": [
      "Right\n"
     ]
    }
   ],
   "source": [
    "num =8\n",
    "guess = int(input(\"Guess my number: \"))\n",
    "while guess !=num:\n",
    "    guess=int(input(\"Guess again: \"))\n",
    "print(\"Right\")"
   ]
  },
  {
   "cell_type": "markdown",
   "id": "a7f9e5d2",
   "metadata": {},
   "source": []
  }
 ],
 "metadata": {
  "kernelspec": {
   "display_name": "Python 3",
   "language": "python",
   "name": "python3"
  },
  "language_info": {
   "codemirror_mode": {
    "name": "ipython",
    "version": 3
   },
   "file_extension": ".py",
   "mimetype": "text/x-python",
   "name": "python",
   "nbconvert_exporter": "python",
   "pygments_lexer": "ipython3",
   "version": "3.12.11"
  }
 },
 "nbformat": 4,
 "nbformat_minor": 5
}
